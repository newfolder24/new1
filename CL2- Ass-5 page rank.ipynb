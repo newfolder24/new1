{
 "cells": [
  {
   "cell_type": "markdown",
   "metadata": {},
   "source": [
    " Implement Page Rank Algorithm. (Use python or beautiful soup for implementation)."
   ]
  },
  {
   "cell_type": "code",
   "execution_count": 2,
   "metadata": {
    "colab": {
     "base_uri": "https://localhost:8080/",
     "height": 556
    },
    "id": "cZmaBNwo8VIl",
    "outputId": "e6459e1b-a8e8-49fa-c973-cf2c3d5deb9e"
   },
   "outputs": [
    {
     "name": "stdout",
     "output_type": "stream",
     "text": [
      "PageRank values: [0.21991393 0.13096327 0.42920887 0.21991393]\n"
     ]
    }
   ],
   "source": [
    "import numpy as np\n",
    "\n",
    "def page_rank(graph, damping_factor=0.85, max_iterations=100, tol=1e-6):\n",
    "    # Number of pages\n",
    "    num_pages = len(graph)\n",
    "\n",
    "    # Initialize the PageRank values\n",
    "    pagerank = np.ones(num_pages) / num_pages\n",
    "\n",
    "    for _ in range(max_iterations):\n",
    "        new_pagerank = np.zeros(num_pages)\n",
    "        for i in range(num_pages):\n",
    "            for j in range(num_pages):\n",
    "                if graph[j][i]:\n",
    "                    new_pagerank[i] += pagerank[j] / sum(graph[j])\n",
    "\n",
    "        # Apply damping factor and update PageRank\n",
    "        new_pagerank = (1 - damping_factor) / num_pages + damping_factor * new_pagerank\n",
    "\n",
    "        # Check for convergence\n",
    "        if np.linalg.norm(new_pagerank - pagerank) < tol:\n",
    "            return new_pagerank\n",
    "\n",
    "        pagerank = new_pagerank\n",
    "\n",
    "    return pagerank\n",
    "\n",
    "# Example graph representing web page connections\n",
    "# Replace this with your own graph\n",
    "web_graph = [\n",
    "    [0, 1, 1, 0],\n",
    "    [0, 0, 1, 0],\n",
    "    [1, 0, 0, 1],\n",
    "    [0, 0, 1, 0]\n",
    "]\n",
    "\n",
    "pagerank_values = page_rank(web_graph)\n",
    "print(\"PageRank values:\", pagerank_values)\n"
   ]
  },
  {
   "cell_type": "code",
   "execution_count": 1,
   "metadata": {},
   "outputs": [
    {
     "name": "stdout",
     "output_type": "stream",
     "text": [
      "PageRank: [0.25777408 0.33739786 0.18089409 0.22393397]\n"
     ]
    }
   ],
   "source": [
    "import numpy as np\n",
    "\n",
    "def page_rank(M, num_iterations: int = 100, d: float = 0.85):\n",
    "   \n",
    "    n = M.shape[0]\n",
    "    M = M / M.sum(axis=0)  \n",
    "    rank = np.ones(n) / n  \n",
    "\n",
    "    for i in range(num_iterations):\n",
    "        rank = (1 - d) / n + d * M @ rank\n",
    "\n",
    "    return rank\n",
    "\n",
    "if __name__ == \"__main__\":\n",
    "    \n",
    "    M = np.array([\n",
    "        [0, 1, 1, 0],\n",
    "        [1, 0, 0, 1],\n",
    "        [0, 1, 0, 0],\n",
    "        [1, 0, 1, 0]\n",
    "    ])\n",
    "    \n",
    "\n",
    "    rank = page_rank(M)\n",
    "    print(\"PageRank:\", rank)\n"
   ]
  },
  {
   "cell_type": "code",
   "execution_count": 3,
   "metadata": {},
   "outputs": [
    {
     "name": "stdout",
     "output_type": "stream",
     "text": [
      "PageRank: [0.36403353 0.19221389 0.32456132 0.11919126]\n"
     ]
    }
   ],
   "source": [
    "import numpy as np\n",
    "\n",
    "def pagerank(adj_matrix, damping_factor=0.85, max_iters=100, tol=1.0e-6):\n",
    "    \"\"\"\n",
    "    Computes the PageRank for each page in a graph.\n",
    "    \n",
    "    Parameters:\n",
    "    - adj_matrix: np.array, adjacency matrix where adj_matrix[i][j] means a link from j to i.\n",
    "    - damping_factor: float, probability of following a link (1 - damping_factor is the probability of teleporting).\n",
    "    - max_iters: int, the maximum number of iterations.\n",
    "    - tol: float, tolerance to decide when to stop iterations.\n",
    "    \n",
    "    Returns:\n",
    "    - page_rank: np.array, the PageRank values for each page.\n",
    "    \"\"\"\n",
    "    n = adj_matrix.shape[0]\n",
    "    \n",
    "    # Create a stochastic matrix by dividing each column by the sum of the column\n",
    "    column_sums = np.sum(adj_matrix, axis=0)\n",
    "    stochastic_matrix = np.divide(adj_matrix, column_sums, where=column_sums!=0)\n",
    "\n",
    "    # Initialize PageRank vector with equal probability for each page\n",
    "    page_rank = np.ones(n) / n\n",
    "    \n",
    "    # Iterative calculation of PageRank\n",
    "    for _ in range(max_iters):\n",
    "        new_page_rank = ((1 - damping_factor) / n) + damping_factor * stochastic_matrix.dot(page_rank)\n",
    "        \n",
    "        # Check for convergence\n",
    "        if np.linalg.norm(new_page_rank - page_rank, 1) < tol:\n",
    "            break\n",
    "        page_rank = new_page_rank\n",
    "    \n",
    "    return page_rank\n",
    "\n",
    "# Example adjacency matrix representing 4 pages\n",
    "# Page 1 -> Page 2, Page 1 -> Page 3\n",
    "# Page 2 -> Page 3, Page 2 -> Page 4\n",
    "# Page 3 -> Page 1\n",
    "# Page 4 -> Page 1, Page 4 -> Page 3\n",
    "adj_matrix = np.array([[0, 0, 1, 1],\n",
    "                       [1, 0, 0, 0],\n",
    "                       [1, 1, 0, 1],\n",
    "                       [0, 1, 0, 0]])\n",
    "\n",
    "# Calculate PageRank\n",
    "page_rank = pagerank(adj_matrix)\n",
    "print(\"PageRank:\", page_rank)\n"
   ]
  },
  {
   "cell_type": "code",
   "execution_count": null,
   "metadata": {},
   "outputs": [],
   "source": []
  }
 ],
 "metadata": {
  "colab": {
   "provenance": []
  },
  "kernelspec": {
   "display_name": "GG_9999",
   "language": "python",
   "name": "gg_9999"
  },
  "language_info": {
   "codemirror_mode": {
    "name": "ipython",
    "version": 3
   },
   "file_extension": ".py",
   "mimetype": "text/x-python",
   "name": "python",
   "nbconvert_exporter": "python",
   "pygments_lexer": "ipython3",
   "version": "3.9.18"
  }
 },
 "nbformat": 4,
 "nbformat_minor": 1
}
